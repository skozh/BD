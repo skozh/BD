{
 "metadata": {
  "language_info": {
   "codemirror_mode": {
    "name": "ipython",
    "version": 3
   },
   "file_extension": ".py",
   "mimetype": "text/x-python",
   "name": "python",
   "nbconvert_exporter": "python",
   "pygments_lexer": "ipython3",
   "version": "3.7.10"
  },
  "orig_nbformat": 2,
  "kernelspec": {
   "name": "python3710jvsc74a57bd02368ea13b64a04b371283ef5424a3f39696477dc8697c632bb26cbef3b68e54b",
   "display_name": "Python 3.7.10 64-bit ('sparkafka': conda)"
  },
  "metadata": {
   "interpreter": {
    "hash": "2368ea13b64a04b371283ef5424a3f39696477dc8697c632bb26cbef3b68e54b"
   }
  }
 },
 "nbformat": 4,
 "nbformat_minor": 2,
 "cells": [
  {
   "cell_type": "code",
   "execution_count": 1,
   "metadata": {},
   "outputs": [],
   "source": [
    "import pyspark\n",
    "from pyspark.sql import SparkSession\n",
    "import pandas as pd\n",
    "import numpy as np\n",
    "import json\n",
    "from pyspark.sql.functions import col, udf\n",
    "from pyspark.sql.types import ArrayType, StructType, StructField, StringType, IntegerType\n",
    "import pyspark.sql.functions as F\n",
    "from kafka import KafkaConsumer"
   ]
  },
  {
   "cell_type": "code",
   "execution_count": 2,
   "metadata": {},
   "outputs": [],
   "source": [
    "# Configuration\n",
    "\n",
    "KAFKA_HOSTS = 'localhost:9092'\n",
    "KAFKA_VERSION = (0, 10)\n",
    "TOPIC = \"profile1\""
   ]
  },
  {
   "cell_type": "code",
   "execution_count": 3,
   "metadata": {},
   "outputs": [],
   "source": [
    "# Spark\n",
    "\n",
    "spark = SparkSession.builder.master(\"local[*]\") \\\n",
    "    .appName(\"Profile Stream Consumer\") \\\n",
    "    .config(\"spark.jars.packages\", \"org.apache.spark:spark-sql-kafka-0-10_2.12:3.1.1\") \\\n",
    "    .getOrCreate()"
   ]
  },
  {
   "cell_type": "code",
   "execution_count": 4,
   "metadata": {},
   "outputs": [
    {
     "output_type": "execute_result",
     "data": {
      "text/plain": [
       "DataFrame[key: string, value: string]"
      ]
     },
     "metadata": {},
     "execution_count": 4
    }
   ],
   "source": [
    "# Read DF\n",
    "\n",
    "df = spark \\\n",
    "  .read \\\n",
    "  .format(\"kafka\") \\\n",
    "  .option(\"kafka.bootstrap.servers\", KAFKA_HOSTS) \\\n",
    "  .option(\"subscribe\", TOPIC) \\\n",
    "  .load()\n",
    "df.selectExpr(\"CAST(key AS STRING)\", \"CAST(value AS STRING)\")"
   ]
  },
  {
   "cell_type": "code",
   "execution_count": 5,
   "metadata": {},
   "outputs": [
    {
     "output_type": "execute_result",
     "data": {
      "text/plain": [
       "694639"
      ]
     },
     "metadata": {},
     "execution_count": 5
    }
   ],
   "source": [
    "df.count()"
   ]
  },
  {
   "cell_type": "code",
   "execution_count": 6,
   "metadata": {},
   "outputs": [],
   "source": [
    "sdf = df.select('topic', col('value').cast(\"string\"))\n",
    "\n",
    "find_post = F.udf(lambda y: json.loads(y)['post_id'])\n",
    "find_age = F.udf(lambda y: json.loads(y)['age'])\n",
    "find_sex = F.udf(lambda y: json.loads(y)['sex'])\n",
    "\n",
    "sdf = sdf.withColumn('post_id', find_post(sdf.value))\\\n",
    "    .withColumn('sex', find_sex(sdf.value))\\\n",
    "    .withColumn('age', find_age(sdf.value))\\\n",
    "    .na.drop()\\\n",
    "    .select(col('topic'), col('post_id'), col('sex'), col('age').cast('int'))"
   ]
  },
  {
   "cell_type": "code",
   "execution_count": 7,
   "metadata": {},
   "outputs": [
    {
     "output_type": "stream",
     "name": "stdout",
     "text": [
      "Posts by a male:  354019\n",
      "Posts by a female:  340519\n",
      "Posts (owner age <18) 3736\n",
      "Posts (owner age 18-27) 141804\n",
      "Posts (owner age 27-40) 192625\n",
      "Posts (owner age 40-60) 238317\n",
      "Posts (owner age >60) 157108\n"
     ]
    }
   ],
   "source": [
    "print(\"Posts by a male: \", sdf.filter(sdf.sex == \"1\").count())\n",
    "print(\"Posts by a female: \", sdf.filter(sdf.sex == \"2\").count())\n",
    "print(\"Posts (owner age <18)\",sdf.filter(\"age<18\").count())\n",
    "print(\"Posts (owner age 18-27)\",sdf.filter(col(\"age\").between(18,27)).count())\n",
    "print(\"Posts (owner age 27-40)\",sdf.filter(col(\"age\").between(27,40)).count())\n",
    "print(\"Posts (owner age 40-60)\",sdf.filter(col(\"age\").between(40,60)).count())\n",
    "print(\"Posts (owner age >60)\",sdf.filter(\"age>60\").count())"
   ]
  },
  {
   "cell_type": "code",
   "execution_count": 8,
   "metadata": {},
   "outputs": [],
   "source": [
    "spark.stop()"
   ]
  }
 ]
}