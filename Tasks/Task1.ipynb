{
 "metadata": {
  "language_info": {
   "codemirror_mode": {
    "name": "ipython",
    "version": 3
   },
   "file_extension": ".py",
   "mimetype": "text/x-python",
   "name": "python",
   "nbconvert_exporter": "python",
   "pygments_lexer": "ipython3",
   "version": "3.7.10"
  },
  "orig_nbformat": 2,
  "kernelspec": {
   "name": "python3710jvsc74a57bd02368ea13b64a04b371283ef5424a3f39696477dc8697c632bb26cbef3b68e54b",
   "display_name": "Python 3.7.10 64-bit ('sparkafka': conda)"
  },
  "metadata": {
   "interpreter": {
    "hash": "2368ea13b64a04b371283ef5424a3f39696477dc8697c632bb26cbef3b68e54b"
   }
  }
 },
 "nbformat": 4,
 "nbformat_minor": 2,
 "cells": [
  {
   "source": [
    "Name: Shyju Kozhisseri<br/>\n",
    "ID: 309572<br/>\n",
    "Group: J41323c"
   ],
   "cell_type": "markdown",
   "metadata": {}
  },
  {
   "cell_type": "code",
   "execution_count": 1,
   "metadata": {},
   "outputs": [],
   "source": [
    "import pyspark\n",
    "import pandas as pd\n",
    "import numpy as np\n",
    "import emoji\n",
    "import re\n",
    "import pyspark.sql.functions as fn\n",
    "from pyspark.sql.types import ArrayType, StructType, StructField, StringType, IntegerType\n",
    "from pyspark.sql import SparkSession\n",
    "from pyspark.sql.functions import col, rank, collect_list\n",
    "from pyspark.sql.window import Window"
   ]
  },
  {
   "cell_type": "code",
   "execution_count": 2,
   "metadata": {},
   "outputs": [],
   "source": [
    "spark = SparkSession\\\n",
    "    .builder \\\n",
    "    .appName(\"Task1\") \\\n",
    "    .config('spark.ui.port', \"4040\")\\\n",
    "    .getOrCreate()"
   ]
  },
  {
   "source": [
    "## Import Data"
   ],
   "cell_type": "markdown",
   "metadata": {}
  },
  {
   "cell_type": "code",
   "execution_count": 3,
   "metadata": {},
   "outputs": [],
   "source": [
    "df = spark.read.json(\"shared_data/bigdata20/posts_api.json/*.json\")"
   ]
  },
  {
   "cell_type": "code",
   "execution_count": 4,
   "metadata": {
    "tags": []
   },
   "outputs": [
    {
     "output_type": "execute_result",
     "data": {
      "text/plain": [
       "['attachments',\n",
       " 'comments',\n",
       " 'copy_history',\n",
       " 'copyright',\n",
       " 'date',\n",
       " 'from_id',\n",
       " 'geo',\n",
       " 'id',\n",
       " 'key',\n",
       " 'likes',\n",
       " 'marked_as_ads',\n",
       " 'owner_id',\n",
       " 'post_source',\n",
       " 'post_type',\n",
       " 'reposts',\n",
       " 'signer_id',\n",
       " 'text',\n",
       " 'unavailable',\n",
       " 'views']"
      ]
     },
     "metadata": {},
     "execution_count": 4
    }
   ],
   "source": [
    "df.schema.names"
   ]
  },
  {
   "cell_type": "code",
   "execution_count": 5,
   "metadata": {
    "tags": []
   },
   "outputs": [
    {
     "output_type": "stream",
     "name": "stdout",
     "text": [
      "root\n |-- attachments: array (nullable = true)\n |    |-- element: struct (containsNull = true)\n |    |    |-- album: struct (nullable = true)\n |    |    |    |-- created: long (nullable = true)\n |    |    |    |-- description: string (nullable = true)\n |    |    |    |-- id: string (nullable = true)\n |    |    |    |-- owner_id: long (nullable = true)\n |    |    |    |-- size: long (nullable = true)\n |    |    |    |-- thumb: struct (nullable = true)\n |    |    |    |    |-- access_key: string (nullable = true)\n |    |    |    |    |-- album_id: long (nullable = true)\n |    |    |    |    |-- date: long (nullable = true)\n |    |    |    |    |-- id: long (nullable = true)\n |    |    |    |    |-- owner_id: long (nullable = true)\n |    |    |    |    |-- sizes: array (nullable = true)\n |    |    |    |    |    |-- element: struct (containsNull = true)\n |    |    |    |    |    |    |-- height: long (nullable = true)\n |    |    |    |    |    |    |-- type: string (nullable = true)\n |    |    |    |    |    |    |-- url: string (nullable = true)\n |    |    |    |    |    |    |-- width: long (nullable = true)\n |    |    |    |    |-- text: string (nullable = true)\n |    |    |    |    |-- user_id: long (nullable = true)\n |    |    |    |-- title: string (nullable = true)\n |    |    |    |-- updated: long (nullable = true)\n |    |    |-- audio: struct (nullable = true)\n |    |    |    |-- album_id: long (nullable = true)\n |    |    |    |-- artist: string (nullable = true)\n |    |    |    |-- content_restricted: long (nullable = true)\n |    |    |    |-- date: long (nullable = true)\n |    |    |    |-- duration: long (nullable = true)\n |    |    |    |-- genre_id: long (nullable = true)\n |    |    |    |-- id: long (nullable = true)\n |    |    |    |-- is_hq: boolean (nullable = true)\n |    |    |    |-- lyrics_id: long (nullable = true)\n |    |    |    |-- no_search: long (nullable = true)\n |    |    |    |-- owner_id: long (nullable = true)\n |    |    |    |-- title: string (nullable = true)\n |    |    |    |-- url: string (nullable = true)\n |    |    |-- doc: struct (nullable = true)\n |    |    |    |-- access_key: string (nullable = true)\n |    |    |    |-- date: long (nullable = true)\n |    |    |    |-- ext: string (nullable = true)\n |    |    |    |-- id: long (nullable = true)\n |    |    |    |-- owner_id: long (nullable = true)\n |    |    |    |-- preview: struct (nullable = true)\n |    |    |    |    |-- photo: struct (nullable = true)\n |    |    |    |    |    |-- sizes: array (nullable = true)\n |    |    |    |    |    |    |-- element: struct (containsNull = true)\n |    |    |    |    |    |    |    |-- height: long (nullable = true)\n |    |    |    |    |    |    |    |-- src: string (nullable = true)\n |    |    |    |    |    |    |    |-- type: string (nullable = true)\n |    |    |    |    |    |    |    |-- width: long (nullable = true)\n |    |    |    |    |-- video: struct (nullable = true)\n |    |    |    |    |    |-- file_size: long (nullable = true)\n |    |    |    |    |    |-- height: long (nullable = true)\n |    |    |    |    |    |-- src: string (nullable = true)\n |    |    |    |    |    |-- width: long (nullable = true)\n |    |    |    |-- size: long (nullable = true)\n |    |    |    |-- title: string (nullable = true)\n |    |    |    |-- type: long (nullable = true)\n |    |    |    |-- url: string (nullable = true)\n |    |    |-- graffiti: struct (nullable = true)\n |    |    |    |-- id: long (nullable = true)\n |    |    |    |-- owner_id: long (nullable = true)\n |    |    |    |-- photo_200: string (nullable = true)\n |    |    |    |-- photo_586: string (nullable = true)\n |    |    |-- link: struct (nullable = true)\n |    |    |    |-- button: struct (nullable = true)\n |    |    |    |    |-- action: struct (nullable = true)\n |    |    |    |    |    |-- type: string (nullable = true)\n |    |    |    |    |    |-- url: string (nullable = true)\n |    |    |    |    |-- title: string (nullable = true)\n |    |    |    |-- button_action: string (nullable = true)\n |    |    |    |-- button_text: string (nullable = true)\n |    |    |    |-- caption: string (nullable = true)\n |    |    |    |-- description: string (nullable = true)\n |    |    |    |-- photo: struct (nullable = true)\n |    |    |    |    |-- album_id: long (nullable = true)\n |    |    |    |    |-- date: long (nullable = true)\n |    |    |    |    |-- id: long (nullable = true)\n |    |    |    |    |-- owner_id: long (nullable = true)\n |    |    |    |    |-- post_id: long (nullable = true)\n |    |    |    |    |-- sizes: array (nullable = true)\n |    |    |    |    |    |-- element: struct (containsNull = true)\n |    |    |    |    |    |    |-- height: long (nullable = true)\n |    |    |    |    |    |    |-- type: string (nullable = true)\n |    |    |    |    |    |    |-- url: string (nullable = true)\n |    |    |    |    |    |    |-- width: long (nullable = true)\n |    |    |    |    |-- text: string (nullable = true)\n |    |    |    |    |-- user_id: long (nullable = true)\n |    |    |    |-- target: string (nullable = true)\n |    |    |    |-- title: string (nullable = true)\n |    |    |    |-- url: string (nullable = true)\n |    |    |-- photo: struct (nullable = true)\n |    |    |    |-- access_key: string (nullable = true)\n |    |    |    |-- album_id: long (nullable = true)\n |    |    |    |-- date: long (nullable = true)\n |    |    |    |-- id: long (nullable = true)\n |    |    |    |-- lat: double (nullable = true)\n |    |    |    |-- long: double (nullable = true)\n |    |    |    |-- owner_id: long (nullable = true)\n |    |    |    |-- post_id: long (nullable = true)\n |    |    |    |-- sizes: array (nullable = true)\n |    |    |    |    |-- element: struct (containsNull = true)\n |    |    |    |    |    |-- height: long (nullable = true)\n |    |    |    |    |    |-- type: string (nullable = true)\n |    |    |    |    |    |-- url: string (nullable = true)\n |    |    |    |    |    |-- width: long (nullable = true)\n |    |    |    |-- text: string (nullable = true)\n |    |    |    |-- user_id: long (nullable = true)\n |    |    |-- podcast: struct (nullable = true)\n |    |    |    |-- artist: string (nullable = true)\n |    |    |    |-- date: long (nullable = true)\n |    |    |    |-- duration: long (nullable = true)\n |    |    |    |-- id: long (nullable = true)\n |    |    |    |-- lyrics_id: long (nullable = true)\n |    |    |    |-- no_search: long (nullable = true)\n |    |    |    |-- owner_id: long (nullable = true)\n |    |    |    |-- podcast_info: struct (nullable = true)\n |    |    |    |    |-- cover: struct (nullable = true)\n |    |    |    |    |    |-- sizes: array (nullable = true)\n |    |    |    |    |    |    |-- element: struct (containsNull = true)\n |    |    |    |    |    |    |    |-- height: long (nullable = true)\n |    |    |    |    |    |    |    |-- type: string (nullable = true)\n |    |    |    |    |    |    |    |-- url: string (nullable = true)\n |    |    |    |    |    |    |    |-- width: long (nullable = true)\n |    |    |    |    |-- description: string (nullable = true)\n |    |    |    |    |-- plays: long (nullable = true)\n |    |    |    |-- title: string (nullable = true)\n |    |    |    |-- url: string (nullable = true)\n |    |    |-- poll: struct (nullable = true)\n |    |    |    |-- anonymous: long (nullable = true)\n |    |    |    |-- answer_id: long (nullable = true)\n |    |    |    |-- answers: array (nullable = true)\n |    |    |    |    |-- element: struct (containsNull = true)\n |    |    |    |    |    |-- id: long (nullable = true)\n |    |    |    |    |    |-- rate: double (nullable = true)\n |    |    |    |    |    |-- text: string (nullable = true)\n |    |    |    |    |    |-- votes: long (nullable = true)\n |    |    |    |-- created: long (nullable = true)\n |    |    |    |-- id: long (nullable = true)\n |    |    |    |-- owner_id: long (nullable = true)\n |    |    |    |-- question: string (nullable = true)\n |    |    |    |-- votes: long (nullable = true)\n |    |    |-- posted_photo: struct (nullable = true)\n |    |    |    |-- id: long (nullable = true)\n |    |    |    |-- owner_id: long (nullable = true)\n |    |    |    |-- photo_130: string (nullable = true)\n |    |    |    |-- photo_604: string (nullable = true)\n |    |    |-- type: string (nullable = true)\n |    |    |-- video: struct (nullable = true)\n |    |    |    |-- access_key: string (nullable = true)\n |    |    |    |-- album_id: long (nullable = true)\n |    |    |    |-- can_add: long (nullable = true)\n |    |    |    |-- comments: long (nullable = true)\n |    |    |    |-- content_restricted: long (nullable = true)\n |    |    |    |-- date: long (nullable = true)\n |    |    |    |-- description: string (nullable = true)\n |    |    |    |-- duration: long (nullable = true)\n |    |    |    |-- first_frame_1024: string (nullable = true)\n |    |    |    |-- first_frame_1280: string (nullable = true)\n |    |    |    |-- first_frame_130: string (nullable = true)\n |    |    |    |-- first_frame_160: string (nullable = true)\n |    |    |    |-- first_frame_320: string (nullable = true)\n |    |    |    |-- first_frame_4096: string (nullable = true)\n |    |    |    |-- first_frame_720: string (nullable = true)\n |    |    |    |-- first_frame_800: string (nullable = true)\n |    |    |    |-- height: long (nullable = true)\n |    |    |    |-- id: long (nullable = true)\n |    |    |    |-- is_private: long (nullable = true)\n |    |    |    |-- local_views: long (nullable = true)\n |    |    |    |-- owner_id: long (nullable = true)\n |    |    |    |-- photo_1280: string (nullable = true)\n |    |    |    |-- photo_130: string (nullable = true)\n |    |    |    |-- photo_320: string (nullable = true)\n |    |    |    |-- photo_640: string (nullable = true)\n |    |    |    |-- photo_800: string (nullable = true)\n |    |    |    |-- platform: string (nullable = true)\n |    |    |    |-- repeat: long (nullable = true)\n |    |    |    |-- title: string (nullable = true)\n |    |    |    |-- track_code: string (nullable = true)\n |    |    |    |-- user_id: long (nullable = true)\n |    |    |    |-- views: long (nullable = true)\n |    |    |    |-- width: long (nullable = true)\n |-- comments: struct (nullable = true)\n |    |-- can_post: long (nullable = true)\n |    |-- count: long (nullable = true)\n |    |-- groups_can_post: boolean (nullable = true)\n |-- copy_history: array (nullable = true)\n |    |-- element: struct (containsNull = true)\n |    |    |-- attachments: array (nullable = true)\n |    |    |    |-- element: struct (containsNull = true)\n |    |    |    |    |-- album: struct (nullable = true)\n |    |    |    |    |    |-- created: long (nullable = true)\n |    |    |    |    |    |-- description: string (nullable = true)\n |    |    |    |    |    |-- id: string (nullable = true)\n |    |    |    |    |    |-- owner_id: long (nullable = true)\n |    |    |    |    |    |-- size: long (nullable = true)\n |    |    |    |    |    |-- thumb: struct (nullable = true)\n |    |    |    |    |    |    |-- access_key: string (nullable = true)\n |    |    |    |    |    |    |-- album_id: long (nullable = true)\n |    |    |    |    |    |    |-- date: long (nullable = true)\n |    |    |    |    |    |    |-- id: long (nullable = true)\n |    |    |    |    |    |    |-- owner_id: long (nullable = true)\n |    |    |    |    |    |    |-- sizes: array (nullable = true)\n |    |    |    |    |    |    |    |-- element: struct (containsNull = true)\n |    |    |    |    |    |    |    |    |-- height: long (nullable = true)\n |    |    |    |    |    |    |    |    |-- type: string (nullable = true)\n |    |    |    |    |    |    |    |    |-- url: string (nullable = true)\n |    |    |    |    |    |    |    |    |-- width: long (nullable = true)\n |    |    |    |    |    |    |-- text: string (nullable = true)\n |    |    |    |    |    |    |-- user_id: long (nullable = true)\n |    |    |    |    |    |-- title: string (nullable = true)\n |    |    |    |    |    |-- updated: long (nullable = true)\n |    |    |    |    |-- audio: struct (nullable = true)\n |    |    |    |    |    |-- album_id: long (nullable = true)\n |    |    |    |    |    |-- artist: string (nullable = true)\n |    |    |    |    |    |-- content_restricted: long (nullable = true)\n |    |    |    |    |    |-- date: long (nullable = true)\n |    |    |    |    |    |-- duration: long (nullable = true)\n |    |    |    |    |    |-- genre_id: long (nullable = true)\n |    |    |    |    |    |-- id: long (nullable = true)\n |    |    |    |    |    |-- is_hq: boolean (nullable = true)\n |    |    |    |    |    |-- lyrics_id: long (nullable = true)\n |    |    |    |    |    |-- no_search: long (nullable = true)\n |    |    |    |    |    |-- owner_id: long (nullable = true)\n |    |    |    |    |    |-- title: string (nullable = true)\n |    |    |    |    |    |-- url: string (nullable = true)\n |    |    |    |    |-- doc: struct (nullable = true)\n |    |    |    |    |    |-- access_key: string (nullable = true)\n |    |    |    |    |    |-- date: long (nullable = true)\n |    |    |    |    |    |-- ext: string (nullable = true)\n |    |    |    |    |    |-- id: long (nullable = true)\n |    |    |    |    |    |-- owner_id: long (nullable = true)\n |    |    |    |    |    |-- preview: struct (nullable = true)\n |    |    |    |    |    |    |-- photo: struct (nullable = true)\n |    |    |    |    |    |    |    |-- sizes: array (nullable = true)\n |    |    |    |    |    |    |    |    |-- element: struct (containsNull = true)\n |    |    |    |    |    |    |    |    |    |-- height: long (nullable = true)\n |    |    |    |    |    |    |    |    |    |-- src: string (nullable = true)\n |    |    |    |    |    |    |    |    |    |-- type: string (nullable = true)\n |    |    |    |    |    |    |    |    |    |-- width: long (nullable = true)\n |    |    |    |    |    |    |-- video: struct (nullable = true)\n |    |    |    |    |    |    |    |-- file_size: long (nullable = true)\n |    |    |    |    |    |    |    |-- height: long (nullable = true)\n |    |    |    |    |    |    |    |-- src: string (nullable = true)\n |    |    |    |    |    |    |    |-- width: long (nullable = true)\n |    |    |    |    |    |-- size: long (nullable = true)\n |    |    |    |    |    |-- title: string (nullable = true)\n |    |    |    |    |    |-- type: long (nullable = true)\n |    |    |    |    |    |-- url: string (nullable = true)\n |    |    |    |    |-- link: struct (nullable = true)\n |    |    |    |    |    |-- button: struct (nullable = true)\n |    |    |    |    |    |    |-- action: struct (nullable = true)\n |    |    |    |    |    |    |    |-- type: string (nullable = true)\n |    |    |    |    |    |    |    |-- url: string (nullable = true)\n |    |    |    |    |    |    |-- title: string (nullable = true)\n |    |    |    |    |    |-- button_action: string (nullable = true)\n |    |    |    |    |    |-- button_text: string (nullable = true)\n |    |    |    |    |    |-- caption: string (nullable = true)\n |    |    |    |    |    |-- description: string (nullable = true)\n |    |    |    |    |    |-- photo: struct (nullable = true)\n |    |    |    |    |    |    |-- album_id: long (nullable = true)\n |    |    |    |    |    |    |-- date: long (nullable = true)\n |    |    |    |    |    |    |-- id: long (nullable = true)\n |    |    |    |    |    |    |-- owner_id: long (nullable = true)\n |    |    |    |    |    |    |-- post_id: long (nullable = true)\n |    |    |    |    |    |    |-- sizes: array (nullable = true)\n |    |    |    |    |    |    |    |-- element: struct (containsNull = true)\n |    |    |    |    |    |    |    |    |-- height: long (nullable = true)\n |    |    |    |    |    |    |    |    |-- type: string (nullable = true)\n |    |    |    |    |    |    |    |    |-- url: string (nullable = true)\n |    |    |    |    |    |    |    |    |-- width: long (nullable = true)\n |    |    |    |    |    |    |-- text: string (nullable = true)\n |    |    |    |    |    |    |-- user_id: long (nullable = true)\n |    |    |    |    |    |-- target: string (nullable = true)\n |    |    |    |    |    |-- title: string (nullable = true)\n |    |    |    |    |    |-- url: string (nullable = true)\n |    |    |    |    |-- page: struct (nullable = true)\n |    |    |    |    |    |-- created: long (nullable = true)\n |    |    |    |    |    |-- edited: long (nullable = true)\n |    |    |    |    |    |-- group_id: long (nullable = true)\n |    |    |    |    |    |-- id: long (nullable = true)\n |    |    |    |    |    |-- parent2: string (nullable = true)\n |    |    |    |    |    |-- title: string (nullable = true)\n |    |    |    |    |    |-- view_url: string (nullable = true)\n |    |    |    |    |    |-- views: long (nullable = true)\n |    |    |    |    |    |-- who_can_edit: long (nullable = true)\n |    |    |    |    |    |-- who_can_view: long (nullable = true)\n |    |    |    |    |-- photo: struct (nullable = true)\n |    |    |    |    |    |-- access_key: string (nullable = true)\n |    |    |    |    |    |-- album_id: long (nullable = true)\n |    |    |    |    |    |-- date: long (nullable = true)\n |    |    |    |    |    |-- id: long (nullable = true)\n |    |    |    |    |    |-- lat: double (nullable = true)\n |    |    |    |    |    |-- long: double (nullable = true)\n |    |    |    |    |    |-- owner_id: long (nullable = true)\n |    |    |    |    |    |-- post_id: long (nullable = true)\n |    |    |    |    |    |-- sizes: array (nullable = true)\n |    |    |    |    |    |    |-- element: struct (containsNull = true)\n |    |    |    |    |    |    |    |-- height: long (nullable = true)\n |    |    |    |    |    |    |    |-- type: string (nullable = true)\n |    |    |    |    |    |    |    |-- url: string (nullable = true)\n |    |    |    |    |    |    |    |-- width: long (nullable = true)\n |    |    |    |    |    |-- text: string (nullable = true)\n |    |    |    |    |    |-- user_id: long (nullable = true)\n |    |    |    |    |-- podcast: struct (nullable = true)\n |    |    |    |    |    |-- artist: string (nullable = true)\n |    |    |    |    |    |-- date: long (nullable = true)\n |    |    |    |    |    |-- duration: long (nullable = true)\n |    |    |    |    |    |-- id: long (nullable = true)\n |    |    |    |    |    |-- lyrics_id: long (nullable = true)\n |    |    |    |    |    |-- no_search: long (nullable = true)\n |    |    |    |    |    |-- owner_id: long (nullable = true)\n |    |    |    |    |    |-- podcast_info: struct (nullable = true)\n |    |    |    |    |    |    |-- cover: struct (nullable = true)\n |    |    |    |    |    |    |    |-- sizes: array (nullable = true)\n |    |    |    |    |    |    |    |    |-- element: struct (containsNull = true)\n |    |    |    |    |    |    |    |    |    |-- height: long (nullable = true)\n |    |    |    |    |    |    |    |    |    |-- type: string (nullable = true)\n |    |    |    |    |    |    |    |    |    |-- url: string (nullable = true)\n |    |    |    |    |    |    |    |    |    |-- width: long (nullable = true)\n |    |    |    |    |    |    |-- description: string (nullable = true)\n |    |    |    |    |    |    |-- plays: long (nullable = true)\n |    |    |    |    |    |-- title: string (nullable = true)\n |    |    |    |    |    |-- url: string (nullable = true)\n |    |    |    |    |-- poll: struct (nullable = true)\n |    |    |    |    |    |-- anonymous: long (nullable = true)\n |    |    |    |    |    |-- answer_id: long (nullable = true)\n |    |    |    |    |    |-- answers: array (nullable = true)\n |    |    |    |    |    |    |-- element: struct (containsNull = true)\n |    |    |    |    |    |    |    |-- id: long (nullable = true)\n |    |    |    |    |    |    |    |-- rate: double (nullable = true)\n |    |    |    |    |    |    |    |-- text: string (nullable = true)\n |    |    |    |    |    |    |    |-- votes: long (nullable = true)\n |    |    |    |    |    |-- created: long (nullable = true)\n |    |    |    |    |    |-- id: long (nullable = true)\n |    |    |    |    |    |-- owner_id: long (nullable = true)\n |    |    |    |    |    |-- question: string (nullable = true)\n |    |    |    |    |    |-- votes: long (nullable = true)\n |    |    |    |    |-- type: string (nullable = true)\n |    |    |    |    |-- video: struct (nullable = true)\n |    |    |    |    |    |-- access_key: string (nullable = true)\n |    |    |    |    |    |-- album_id: long (nullable = true)\n |    |    |    |    |    |-- can_add: long (nullable = true)\n |    |    |    |    |    |-- comments: long (nullable = true)\n |    |    |    |    |    |-- date: long (nullable = true)\n |    |    |    |    |    |-- description: string (nullable = true)\n |    |    |    |    |    |-- duration: long (nullable = true)\n |    |    |    |    |    |-- first_frame_1024: string (nullable = true)\n |    |    |    |    |    |-- first_frame_1280: string (nullable = true)\n |    |    |    |    |    |-- first_frame_130: string (nullable = true)\n |    |    |    |    |    |-- first_frame_160: string (nullable = true)\n |    |    |    |    |    |-- first_frame_320: string (nullable = true)\n |    |    |    |    |    |-- first_frame_4096: string (nullable = true)\n |    |    |    |    |    |-- first_frame_720: string (nullable = true)\n |    |    |    |    |    |-- first_frame_800: string (nullable = true)\n |    |    |    |    |    |-- height: long (nullable = true)\n |    |    |    |    |    |-- id: long (nullable = true)\n |    |    |    |    |    |-- local_views: long (nullable = true)\n |    |    |    |    |    |-- owner_id: long (nullable = true)\n |    |    |    |    |    |-- photo_1280: string (nullable = true)\n |    |    |    |    |    |-- photo_130: string (nullable = true)\n |    |    |    |    |    |-- photo_320: string (nullable = true)\n |    |    |    |    |    |-- photo_640: string (nullable = true)\n |    |    |    |    |    |-- photo_800: string (nullable = true)\n |    |    |    |    |    |-- platform: string (nullable = true)\n |    |    |    |    |    |-- repeat: long (nullable = true)\n |    |    |    |    |    |-- title: string (nullable = true)\n |    |    |    |    |    |-- track_code: string (nullable = true)\n |    |    |    |    |    |-- user_id: long (nullable = true)\n |    |    |    |    |    |-- views: long (nullable = true)\n |    |    |    |    |    |-- width: long (nullable = true)\n |    |    |-- date: long (nullable = true)\n |    |    |-- from_id: long (nullable = true)\n |    |    |-- geo: struct (nullable = true)\n |    |    |    |-- coordinates: string (nullable = true)\n |    |    |    |-- place: struct (nullable = true)\n |    |    |    |    |-- city: string (nullable = true)\n |    |    |    |    |-- country: string (nullable = true)\n |    |    |    |    |-- created: long (nullable = true)\n |    |    |    |    |-- icon: string (nullable = true)\n |    |    |    |    |-- id: long (nullable = true)\n |    |    |    |    |-- latitude: double (nullable = true)\n |    |    |    |    |-- longitude: double (nullable = true)\n |    |    |    |    |-- title: string (nullable = true)\n |    |    |    |-- showmap: long (nullable = true)\n |    |    |    |-- type: string (nullable = true)\n |    |    |-- id: long (nullable = true)\n |    |    |-- owner_id: long (nullable = true)\n |    |    |-- post_source: struct (nullable = true)\n |    |    |    |-- data: string (nullable = true)\n |    |    |    |-- platform: string (nullable = true)\n |    |    |    |-- type: string (nullable = true)\n |    |    |-- post_type: string (nullable = true)\n |    |    |-- signer_id: long (nullable = true)\n |    |    |-- text: string (nullable = true)\n |-- copyright: struct (nullable = true)\n |    |-- id: long (nullable = true)\n |    |-- link: string (nullable = true)\n |    |-- name: string (nullable = true)\n |    |-- type: string (nullable = true)\n |-- date: long (nullable = true)\n |-- from_id: long (nullable = true)\n |-- geo: struct (nullable = true)\n |    |-- coordinates: string (nullable = true)\n |    |-- place: struct (nullable = true)\n |    |    |-- city: string (nullable = true)\n |    |    |-- country: string (nullable = true)\n |    |    |-- created: long (nullable = true)\n |    |    |-- icon: string (nullable = true)\n |    |    |-- id: long (nullable = true)\n |    |    |-- latitude: double (nullable = true)\n |    |    |-- longitude: double (nullable = true)\n |    |    |-- title: string (nullable = true)\n |    |-- showmap: long (nullable = true)\n |    |-- type: string (nullable = true)\n |-- id: long (nullable = true)\n |-- key: string (nullable = true)\n |-- likes: struct (nullable = true)\n |    |-- can_like: long (nullable = true)\n |    |-- can_publish: long (nullable = true)\n |    |-- count: long (nullable = true)\n |    |-- user_likes: long (nullable = true)\n |-- marked_as_ads: long (nullable = true)\n |-- owner_id: long (nullable = true)\n |-- post_source: struct (nullable = true)\n |    |-- data: string (nullable = true)\n |    |-- platform: string (nullable = true)\n |    |-- type: string (nullable = true)\n |-- post_type: string (nullable = true)\n |-- reposts: struct (nullable = true)\n |    |-- count: long (nullable = true)\n |    |-- user_reposted: long (nullable = true)\n |-- signer_id: long (nullable = true)\n |-- text: string (nullable = true)\n |-- unavailable: string (nullable = true)\n |-- views: struct (nullable = true)\n |    |-- count: long (nullable = true)\n\n"
     ]
    }
   ],
   "source": [
    "df.printSchema()"
   ]
  },
  {
   "source": [
    "## Top 20 Posts"
   ],
   "cell_type": "markdown",
   "metadata": {}
  },
  {
   "source": [
    "### Likes"
   ],
   "cell_type": "markdown",
   "metadata": {}
  },
  {
   "cell_type": "code",
   "execution_count": 6,
   "metadata": {},
   "outputs": [
    {
     "output_type": "execute_result",
     "data": {
      "text/plain": [
       "[Row(id=32022, count=1637),\n",
       " Row(id=35068, count=1629),\n",
       " Row(id=17492, count=1516),\n",
       " Row(id=18526, count=1026),\n",
       " Row(id=19552, count=955),\n",
       " Row(id=41468, count=952),\n",
       " Row(id=19419, count=868),\n",
       " Row(id=29046, count=824),\n",
       " Row(id=32546, count=786),\n",
       " Row(id=24085, count=765),\n",
       " Row(id=40180, count=759),\n",
       " Row(id=33658, count=708),\n",
       " Row(id=13532, count=633),\n",
       " Row(id=40842, count=631),\n",
       " Row(id=35117, count=588),\n",
       " Row(id=17014, count=581),\n",
       " Row(id=19583, count=553),\n",
       " Row(id=19809, count=552),\n",
       " Row(id=27455, count=550),\n",
       " Row(id=11999, count=549)]"
      ]
     },
     "metadata": {},
     "execution_count": 6
    }
   ],
   "source": [
    "df.select(\"id\", \"likes.count\").orderBy(\"likes.count\", ascending=False).head(20)"
   ]
  },
  {
   "source": [
    "### Comments"
   ],
   "cell_type": "markdown",
   "metadata": {}
  },
  {
   "cell_type": "code",
   "execution_count": 7,
   "metadata": {},
   "outputs": [
    {
     "output_type": "execute_result",
     "data": {
      "text/plain": [
       "[Row(id=24085, count=850),\n",
       " Row(id=22540, count=250),\n",
       " Row(id=27722, count=192),\n",
       " Row(id=8285, count=148),\n",
       " Row(id=26860, count=113),\n",
       " Row(id=13571, count=107),\n",
       " Row(id=39294, count=104),\n",
       " Row(id=36680, count=96),\n",
       " Row(id=41739, count=92),\n",
       " Row(id=26006, count=92),\n",
       " Row(id=12426, count=91),\n",
       " Row(id=21499, count=88),\n",
       " Row(id=39163, count=83),\n",
       " Row(id=39407, count=83),\n",
       " Row(id=11267, count=81),\n",
       " Row(id=31548, count=80),\n",
       " Row(id=11158, count=70),\n",
       " Row(id=39082, count=67),\n",
       " Row(id=12687, count=61),\n",
       " Row(id=14602, count=61)]"
      ]
     },
     "metadata": {},
     "execution_count": 7
    }
   ],
   "source": [
    "df.select(\"id\", \"comments.count\").orderBy(\"comments.count\", ascending=False).head(20)"
   ]
  },
  {
   "source": [
    "### Reposts"
   ],
   "cell_type": "markdown",
   "metadata": {}
  },
  {
   "cell_type": "code",
   "execution_count": 8,
   "metadata": {},
   "outputs": [
    {
     "output_type": "execute_result",
     "data": {
      "text/plain": [
       "[Row(id=17492, count=334),\n",
       " Row(id=19552, count=246),\n",
       " Row(id=32022, count=210),\n",
       " Row(id=11842, count=129),\n",
       " Row(id=19419, count=126),\n",
       " Row(id=13532, count=110),\n",
       " Row(id=17014, count=105),\n",
       " Row(id=35068, count=101),\n",
       " Row(id=41266, count=92),\n",
       " Row(id=12593, count=90),\n",
       " Row(id=29046, count=87),\n",
       " Row(id=41468, count=85),\n",
       " Row(id=11999, count=85),\n",
       " Row(id=19809, count=84),\n",
       " Row(id=17167, count=81),\n",
       " Row(id=10833, count=78),\n",
       " Row(id=18543, count=77),\n",
       " Row(id=16596, count=76),\n",
       " Row(id=18156, count=74),\n",
       " Row(id=37262, count=71)]"
      ]
     },
     "metadata": {},
     "execution_count": 8
    }
   ],
   "source": [
    "df.select(\"id\", \"reposts.count\").orderBy(\"reposts.count\", ascending=False).head(20)"
   ]
  },
  {
   "source": [
    "## Top 20 Users"
   ],
   "cell_type": "markdown",
   "metadata": {}
  },
  {
   "source": [
    "### Likes"
   ],
   "cell_type": "markdown",
   "metadata": {}
  },
  {
   "cell_type": "code",
   "execution_count": 9,
   "metadata": {},
   "outputs": [
    {
     "output_type": "stream",
     "name": "stdout",
     "text": [
      "root\n |-- itemType: string (nullable = true)\n |-- ownerId: integer (nullable = true)\n |-- itemId: integer (nullable = true)\n |-- likerId: integer (nullable = true)\n\n"
     ]
    }
   ],
   "source": [
    "df2 = spark.read.parquet(\"shared_data/bigdata20/posts_likes.parquet/*.parquet\")\n",
    "df2.printSchema()"
   ]
  },
  {
   "cell_type": "code",
   "execution_count": 10,
   "metadata": {},
   "outputs": [
    {
     "output_type": "execute_result",
     "data": {
      "text/plain": [
       "[Row(likerId=2070090, count=4801),\n",
       " Row(likerId=2397858, count=2055),\n",
       " Row(likerId=1475301, count=1829),\n",
       " Row(likerId=18239, count=1569),\n",
       " Row(likerId=546612, count=1245),\n",
       " Row(likerId=6371, count=907),\n",
       " Row(likerId=1841959, count=746),\n",
       " Row(likerId=78440957, count=709),\n",
       " Row(likerId=120248, count=699),\n",
       " Row(likerId=40981497, count=611),\n",
       " Row(likerId=22158, count=553),\n",
       " Row(likerId=207628162, count=548),\n",
       " Row(likerId=329377723, count=504),\n",
       " Row(likerId=76071304, count=474),\n",
       " Row(likerId=14805173, count=440),\n",
       " Row(likerId=317799, count=385),\n",
       " Row(likerId=56355640, count=375),\n",
       " Row(likerId=52042971, count=338),\n",
       " Row(likerId=7437271, count=336),\n",
       " Row(likerId=136506644, count=335)]"
      ]
     },
     "metadata": {},
     "execution_count": 10
    }
   ],
   "source": [
    "df2.groupBy(\"likerId\").count().orderBy(\"count\", ascending=False).head(20)"
   ]
  },
  {
   "source": [
    "### Reposts"
   ],
   "cell_type": "markdown",
   "metadata": {}
  },
  {
   "cell_type": "code",
   "execution_count": 11,
   "metadata": {},
   "outputs": [
    {
     "output_type": "execute_result",
     "data": {
      "text/plain": [
       "[Row(owner_id=[-33773], count=186),\n",
       " Row(owner_id=[-76139618], count=144),\n",
       " Row(owner_id=[-45636106], count=95),\n",
       " Row(owner_id=[-53958282], count=70),\n",
       " Row(owner_id=[-45660640], count=52),\n",
       " Row(owner_id=[-97819925], count=46),\n",
       " Row(owner_id=[-2499902], count=44),\n",
       " Row(owner_id=[-103229636], count=28),\n",
       " Row(owner_id=[-94359346], count=26),\n",
       " Row(owner_id=[-51664920], count=24),\n",
       " Row(owner_id=[-46907025], count=23),\n",
       " Row(owner_id=[-122783310], count=22),\n",
       " Row(owner_id=[-78459300], count=21),\n",
       " Row(owner_id=[18239], count=20),\n",
       " Row(owner_id=[-57339370], count=18),\n",
       " Row(owner_id=[-45375087], count=17),\n",
       " Row(owner_id=[-23303030], count=16),\n",
       " Row(owner_id=[-644236], count=16),\n",
       " Row(owner_id=[-39268951], count=14),\n",
       " Row(owner_id=[-3900734], count=14)]"
      ]
     },
     "metadata": {},
     "execution_count": 11
    }
   ],
   "source": [
    "reposts = df.select(col(\"id\").alias(\"posts_id\"), col(\"copy_history.id\").alias(\"copy_history_id\"), col(\"copy_history.owner_id\").alias(\"owner_id\")).where(df.copy_history.isNotNull())\n",
    "reposts.select(\"owner_id\",\"copy_history_id\").groupBy(\"owner_id\").count().orderBy(\"count\", ascending=False).head(20)"
   ]
  },
  {
   "source": [
    "## Emoticons"
   ],
   "cell_type": "markdown",
   "metadata": {}
  },
  {
   "cell_type": "code",
   "execution_count": 12,
   "metadata": {},
   "outputs": [],
   "source": [
    "emojis_list = map(lambda x: ''.join(x.split()), emoji.UNICODE_EMOJI['en'].keys())\n",
    "emoji_keys = '|'.join(re.escape(p) for p in emojis_list)"
   ]
  },
  {
   "cell_type": "code",
   "execution_count": 13,
   "metadata": {},
   "outputs": [],
   "source": [
    "def find_all_emo(plain_text):\n",
    "    if plain_text is None:\n",
    "        return None\n",
    "    else:\n",
    "        emo_list = re.findall(emoji_keys, plain_text)\n",
    "        return emo_list\n",
    "\n",
    "search_all_emojis = fn.udf(lambda y: find_all_emo(y), ArrayType(StringType()))\n",
    "\n",
    "df_with_emojis = df.withColumn(\"emojis\", search_all_emojis(fn.col(\"text\")))"
   ]
  },
  {
   "cell_type": "code",
   "execution_count": 14,
   "metadata": {},
   "outputs": [
    {
     "output_type": "execute_result",
     "data": {
      "text/plain": [
       "[Row(id=30016, emojis=['‼', '❗', '❗', '‼', '🇫🇷', '🇫🇷', '🔴', '🔴', '🇨🇱', '🇨🇱', '🔵', '🇨🇳', '🇨🇳', '🔴', '🔷', '🔷', '🔷', '🔷']),\n",
       " Row(id=33749, emojis=['🌎', '👩', '🏼', '💻', '👨', '🏻', '💻', '🖋', '✔', '✔', '✔', '✔', '🔵', '🔴', '🔴', '🔷', '⁉']),\n",
       " Row(id=33011, emojis=['❗', '❗', '❗', '🔆', '📸', '⛱', '❤', '👨', '👩', '👧', '👦', '🍦', '🎹', '🎷']),\n",
       " Row(id=33557, emojis=['❗', '❗', '🔹', '🔹', '🔹', '🔹', '▪', '▪', '▪', '▪', '▪']),\n",
       " Row(id=15697, emojis=['✔', '✔', '✔', '✔', '✔', '✔', '✔', '✔', '✔', '✔', '✔']),\n",
       " Row(id=34251, emojis=['📽', '🎞', '🎬', '⬇', '⬇', '⬇', '🕖', '📍', '🎬', '🕖', '📍']),\n",
       " Row(id=34575, emojis=['🇩🇪', '🇩🇪', '🇩🇪', '🔎', '💿', '⏰', '👌', '🏻', '👍', '🏼']),\n",
       " Row(id=39682, emojis=['🤔', '📌', '🔹', '🔹', '🔹', '🔹', '🔹', '🔹', '🔹', '🔹']),\n",
       " Row(id=34896, emojis=['✒', '📉', '🎓', '🔴', '🔴', '📩', '✏', '📈', '🎓', '🔵']),\n",
       " Row(id=15550, emojis=['✔', '✔', '✔', '✔', '✔', '✔', '✔', '✔', '✔', '✔']),\n",
       " Row(id=34359, emojis=['🔴', '🔴', '🔴', '🔵', '🔵', '🔵', '🔴', '🔴', '🔴']),\n",
       " Row(id=37463, emojis=['🏁', '🔵', '🔴', '🔵', '🔴', '🔵', '📍', '🕐']),\n",
       " Row(id=34273, emojis=['❗', '❗', '👨', '🏻', '🎓', '👩', '🏻', '🎓']),\n",
       " Row(id=33864, emojis=['💸', '💸', '💸', '💡', '💡', '💡', '💡', '💡']),\n",
       " Row(id=37557, emojis=['🏁', '🔵', '🔴', '🔵', '🔴', '🔵', '📍', '🕐']),\n",
       " Row(id=37031, emojis=['🔴', '🔵', '🔴', '🔵', '🔴', '🔵', '🔴', '🔵']),\n",
       " Row(id=35671, emojis=['🙌', '🏻', '🔹', '🔹', '🔹', '🔹', '🔹']),\n",
       " Row(id=34495, emojis=['🇦🇹', '🏔', '📚', '🎉', '🇬🇧', '🇩🇪', '🗯']),\n",
       " Row(id=29891, emojis=['🔜', '🔷', '🔷', '🔷', '📍', '🕛', '🤖']),\n",
       " Row(id=34553, emojis=['🎞', '🎞', '🔥', '🔥', '🔥', '🕖', '📍'])]"
      ]
     },
     "metadata": {},
     "execution_count": 14
    }
   ],
   "source": [
    "df_with_emojis.select(\"id\",\"emojis\").orderBy(fn.size(col(\"emojis\")), ascending=False).head(20)"
   ]
  },
  {
   "source": [
    "## Emoji Sentiment Analysis"
   ],
   "cell_type": "markdown",
   "metadata": {}
  },
  {
   "cell_type": "code",
   "execution_count": 15,
   "metadata": {},
   "outputs": [],
   "source": [
    "from emosent import get_emoji_sentiment_rank\n",
    "from statistics import mean\n",
    "\n",
    "def calculate_senti_score(plain_text):\n",
    "    if plain_text is None or plain_text == '':\n",
    "        return 0\n",
    "    else:\n",
    "        sentiment = []\n",
    "        for item in plain_text:\n",
    "            try:\n",
    "                sentiment.append(np.float(get_emoji_sentiment_rank(item)['sentiment_score']))\n",
    "            except:\n",
    "                continue\n",
    "        L = [float(n) for n in sentiment if n]\n",
    "        score = sum(L)/len(L) if L else 0\n",
    "        return score\n",
    "\n",
    "find_sentiments = fn.udf(lambda y: calculate_senti_score(y), StringType())\n",
    "df_with_sentiment = df_with_emojis.withColumn(\"sentiment_score\", find_sentiments(col(\"emojis\")))"
   ]
  },
  {
   "cell_type": "code",
   "execution_count": 16,
   "metadata": {},
   "outputs": [
    {
     "output_type": "execute_result",
     "data": {
      "text/plain": [
       "[Row(id=17584, sentiment_score='-0.018', emotion='Negative'),\n",
       " Row(id=36360, sentiment_score='-0.111', emotion='Negative'),\n",
       " Row(id=41316, sentiment_score='-0.122', emotion='Negative'),\n",
       " Row(id=35652, sentiment_score='-0.16449999999999998', emotion='Negative'),\n",
       " Row(id=41039, sentiment_score='-0.211', emotion='Negative'),\n",
       " Row(id=35865, sentiment_score='-0.214', emotion='Negative'),\n",
       " Row(id=41266, sentiment_score='-0.24524999999999997', emotion='Negative'),\n",
       " Row(id=40071, sentiment_score='-0.368', emotion='Negative'),\n",
       " Row(id=40301, sentiment_score='-0.4695', emotion='Negative'),\n",
       " Row(id=40090, sentiment_score='-0.571', emotion='Negative')]"
      ]
     },
     "metadata": {},
     "execution_count": 16
    }
   ],
   "source": [
    "df_with_sentiment.select(\"id\",\"sentiment_score\")\\\n",
    "                    .where(col('text') != '')\\\n",
    "                    .withColumn('emotion', fn.when(col('sentiment_score').cast('float')>0, 'Positive')\\\n",
    "                    .when(col('sentiment_score').cast('float')<0, 'Negative')\\\n",
    "                    .otherwise('Neutral'))\\\n",
    "                    .orderBy('sentiment_score', ascending=True)\\\n",
    "                    .head(10)"
   ]
  },
  {
   "source": [
    "## Probable Fans"
   ],
   "cell_type": "markdown",
   "metadata": {}
  },
  {
   "cell_type": "code",
   "execution_count": 17,
   "metadata": {},
   "outputs": [
    {
     "output_type": "stream",
     "name": "stdout",
     "text": [
      "root\n |-- itemType: string (nullable = true)\n |-- ownerId: integer (nullable = true)\n |-- itemId: integer (nullable = true)\n |-- likerId: integer (nullable = true)\n\n"
     ]
    }
   ],
   "source": [
    "fdf = spark.read.parquet(\"shared_data/bigdata20/followers_posts_likes.parquet/*.parquet\")\n",
    "fdf.printSchema()"
   ]
  },
  {
   "cell_type": "code",
   "execution_count": 18,
   "metadata": {},
   "outputs": [],
   "source": [
    "def top_fans(likerId, topfdf):\n",
    "    return topfdf.where(col(\"likerId\")==likerId).orderBy(\"count\", ascending=False).select(col(\"ownerId\").alias(\"UserId\"), col(\"count\").alias(\"NoOfLikes\")).head(10)"
   ]
  },
  {
   "cell_type": "code",
   "execution_count": 19,
   "metadata": {},
   "outputs": [
    {
     "output_type": "stream",
     "name": "stdout",
     "text": [
      "User-14 is a probable fan of:\n",
      "\n",
      "[Row(UserId=1986125, NoOfLikes=2), Row(UserId=3680017, NoOfLikes=1), Row(UserId=35524, NoOfLikes=1), Row(UserId=3420, NoOfLikes=1)]\n"
     ]
    }
   ],
   "source": [
    "topfdf = fdf.where(col(\"likerId\") != col(\"ownerId\")).groupBy(\"likerId\", \"ownerId\").count().orderBy([\"count\"], ascending=False)\n",
    "print(\"User-14 is a probable fan of:\\n\")\n",
    "print(top_fans('14', topfdf))"
   ]
  },
  {
   "source": [
    "## Probable Friends"
   ],
   "cell_type": "markdown",
   "metadata": {}
  },
  {
   "cell_type": "code",
   "execution_count": 20,
   "metadata": {},
   "outputs": [
    {
     "output_type": "execute_result",
     "data": {
      "text/plain": [
       "[Row(likerId=496, ownerId=59139083, count=1, rank=1),\n",
       " Row(likerId=2142, ownerId=5411213, count=5, rank=1),\n",
       " Row(likerId=3918, ownerId=145254284, count=1, rank=1),\n",
       " Row(likerId=7880, ownerId=2812004, count=2, rank=1),\n",
       " Row(likerId=9376, ownerId=111195, count=1, rank=1),\n",
       " Row(likerId=12046, ownerId=3824163, count=2, rank=1),\n",
       " Row(likerId=13832, ownerId=15221, count=1, rank=1),\n",
       " Row(likerId=18944, ownerId=15221, count=1, rank=1),\n",
       " Row(likerId=20135, ownerId=75791, count=3, rank=1),\n",
       " Row(likerId=20683, ownerId=591512, count=1, rank=1)]"
      ]
     },
     "metadata": {},
     "execution_count": 20
    }
   ],
   "source": [
    "window = Window.partitionBy(topfdf['likerId']).orderBy(topfdf['count'].desc())\n",
    "top_friend = topfdf.select('*', rank().over(window).alias('rank')).filter(col('rank') <= 1)\n",
    "top_friend.head(10)"
   ]
  },
  {
   "cell_type": "code",
   "execution_count": 21,
   "metadata": {},
   "outputs": [
    {
     "output_type": "execute_result",
     "data": {
      "text/plain": [
       "[Row(likerId=370123, ownerId=588552),\n",
       " Row(likerId=80734900, ownerId=306995029),\n",
       " Row(likerId=182703092, ownerId=158548069),\n",
       " Row(likerId=217400123, ownerId=272787573),\n",
       " Row(likerId=240137155, ownerId=327458),\n",
       " Row(likerId=272076217, ownerId=209077977),\n",
       " Row(likerId=3670245, ownerId=203962500),\n",
       " Row(likerId=3670245, ownerId=79962265),\n",
       " Row(likerId=4428906, ownerId=126259762),\n",
       " Row(likerId=230853332, ownerId=282798485)]"
      ]
     },
     "metadata": {},
     "execution_count": 21
    }
   ],
   "source": [
    "temp = top_friend.select(\"likerId\", \"ownerId\")\n",
    "friends_list = temp.alias('left').join(temp.alias('right'), col('right.likerId') == col('left.ownerId'), how=\"inner\").filter(col('left.likerId') == col('right.ownerId')).select(col('left.likerId'),col('left.ownerId'))\n",
    "friends_list.head(10)"
   ]
  },
  {
   "source": [
    "## Stop Spark"
   ],
   "cell_type": "markdown",
   "metadata": {}
  },
  {
   "cell_type": "code",
   "execution_count": 22,
   "metadata": {},
   "outputs": [],
   "source": [
    "spark.stop()"
   ]
  }
 ]
}