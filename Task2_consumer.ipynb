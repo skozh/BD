{
 "metadata": {
  "language_info": {
   "codemirror_mode": {
    "name": "ipython",
    "version": 3
   },
   "file_extension": ".py",
   "mimetype": "text/x-python",
   "name": "python",
   "nbconvert_exporter": "python",
   "pygments_lexer": "ipython3",
   "version": "3.7.10"
  },
  "orig_nbformat": 2,
  "kernelspec": {
   "name": "python3710jvsc74a57bd02368ea13b64a04b371283ef5424a3f39696477dc8697c632bb26cbef3b68e54b",
   "display_name": "Python 3.7.10 64-bit ('sparkafka': conda)"
  },
  "metadata": {
   "interpreter": {
    "hash": "2368ea13b64a04b371283ef5424a3f39696477dc8697c632bb26cbef3b68e54b"
   }
  }
 },
 "nbformat": 4,
 "nbformat_minor": 2,
 "cells": [
  {
   "cell_type": "code",
   "execution_count": 1,
   "metadata": {},
   "outputs": [],
   "source": [
    "import pyspark\n",
    "from pyspark.sql import SparkSession\n",
    "import pandas as pd\n",
    "import numpy as np\n",
    "from kafka import KafkaConsumer\n",
    "import sys"
   ]
  },
  {
   "cell_type": "code",
   "execution_count": 2,
   "metadata": {},
   "outputs": [],
   "source": [
    "# Configuration\n",
    "\n",
    "KAFKA_HOSTS = 'localhost:9092'\n",
    "KAFKA_VERSION = (0, 10)\n",
    "TOPIC = 'posts'\n",
    "\n",
    "spark = SparkSession.builder.master(\"local[*]\") \\\n",
    "    .appName(\"Word Count\") \\\n",
    "    .config(\"spark.jars.packages\", \"org.apache.spark:spark-sql-kafka-0-10_2.12:3.1.1\") \\\n",
    "    .getOrCreate()"
   ]
  },
  {
   "cell_type": "code",
   "execution_count": 3,
   "metadata": {},
   "outputs": [
    {
     "output_type": "execute_result",
     "data": {
      "text/plain": [
       "[Row(key=bytearray(b'25663'), value=bytearray(b'18'), topic='posts', partition=0, offset=0, timestamp=datetime.datetime(2021, 5, 13, 20, 54, 56, 936000), timestampType=0),\n",
       " Row(key=bytearray(b'20704'), value=bytearray(b'19'), topic='posts', partition=0, offset=1, timestamp=datetime.datetime(2021, 5, 13, 20, 54, 56, 935000), timestampType=0),\n",
       " Row(key=bytearray(b'17274'), value=bytearray(b'12'), topic='posts', partition=0, offset=2, timestamp=datetime.datetime(2021, 5, 13, 20, 54, 56, 935000), timestampType=0),\n",
       " Row(key=bytearray(b'18321'), value=bytearray(b'15'), topic='posts', partition=0, offset=3, timestamp=datetime.datetime(2021, 5, 13, 20, 54, 56, 935000), timestampType=0),\n",
       " Row(key=bytearray(b'17273'), value=bytearray(b'7'), topic='posts', partition=0, offset=4, timestamp=datetime.datetime(2021, 5, 13, 20, 54, 56, 963000), timestampType=0)]"
      ]
     },
     "metadata": {},
     "execution_count": 3
    }
   ],
   "source": [
    "# Read DF\n",
    "\n",
    "df = spark \\\n",
    "  .read \\\n",
    "  .format(\"kafka\") \\\n",
    "  .option(\"kafka.bootstrap.servers\", KAFKA_HOSTS) \\\n",
    "  .option(\"subscribe\", TOPIC) \\\n",
    "  .load()\n",
    "df.head(5)"
   ]
  },
  {
   "source": [],
   "cell_type": "markdown",
   "metadata": {}
  },
  {
   "cell_type": "code",
   "execution_count": null,
   "metadata": {},
   "outputs": [],
   "source": [
    "# Receive as a Collection\n",
    "\n",
    "consumer = KafkaConsumer(TOPIC, bootstrap_servers=KAFKA_HOSTS, api_version=KAFKA_VERSION)\n",
    "df = []\n",
    "\n",
    "for msg in consumer:\n",
    "    df.append(msg.value)"
   ]
  },
  {
   "cell_type": "code",
   "execution_count": null,
   "metadata": {},
   "outputs": [],
   "source": []
  }
 ]
}